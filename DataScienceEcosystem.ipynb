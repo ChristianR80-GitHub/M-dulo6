{
 "cells": [
  {
   "cell_type": "markdown",
   "id": "19cdfe38-33da-46a4-b98e-0ffc093e6bcb",
   "metadata": {},
   "source": [
    "# Data Science Tools and Ecosystem"
   ]
  },
  {
   "cell_type": "markdown",
   "id": "ed96f469-f3b2-4d9c-b0a8-2d86f8f1c203",
   "metadata": {},
   "source": [
    "## In this notebook, Data Science Tools and Ecosystem are summarized"
   ]
  },
  {
   "cell_type": "markdown",
   "id": "7c7d90c4-47aa-48bb-85a4-6f20e9a1a5f4",
   "metadata": {},
   "source": [
    "### **Objectives**\n",
    "\n",
    "* Languages that Data Scientists\n",
    "* Libraries used by Data Scientists \n",
    "* IDES\n"
   ]
  },
  {
   "cell_type": "markdown",
   "id": "d1d75c5e-04b3-49b4-95a6-bad25ba3b29c",
   "metadata": {},
   "source": [
    "## Some of the popular languages that Data Scientists use are:\n",
    "\n",
    "1. Python\n",
    "2. R \n",
    "3. SQL"
   ]
  },
  {
   "cell_type": "markdown",
   "id": "414512fe-aca3-4218-99f7-bc59eeda80b3",
   "metadata": {},
   "source": [
    "## Some of the commonly used libraries used by Data Scientists include:\n",
    "1. NumPy\n",
    "2. pandas\n",
    "3. Matplotlib\n",
    "4. Seaborn\n",
    "5. scikit-learn\n",
    "6. TensorFlow\n",
    "7. Keras\n",
    "8. PyTorch\n",
    "9. SciPy\n",
    "10. Statsmodels\n"
   ]
  },
  {
   "cell_type": "markdown",
   "id": "2bddef0e-3e3e-4387-9d2a-a93da9216040",
   "metadata": {
    "tags": []
   },
   "source": [
    "| Herramienta         |\n",
    "|---------------------|\n",
    "| Jupyter Notebook    |\n",
    "| RStudio             |\n",
    "| Apache Zeppelin     |\n"
   ]
  },
  {
   "cell_type": "markdown",
   "id": "e2f3c54c-68e1-4522-a990-5144a6268ba5",
   "metadata": {},
   "source": [
    "### Below are a few examples of evaluating arithmetic expressions in Python\n",
    "\n",
    "#### python\n",
    "\n",
    "\n",
    "##### Addition\n",
    "result_add = 2 + 3\n",
    "print(\"2 + 3 =\", result_add)\n",
    "\n",
    "##### Subtraction\n",
    "result_sub = 7 - 4\n",
    "print(\"7 - 4 =\", result_sub)\n",
    "\n",
    "##### Multiplication\n",
    "result_mul = 5 * 6\n",
    "print(\"5 * 6 =\", result_mul)\n",
    "\n",
    "##### Division\n",
    "result_div = 8 / 2\n",
    "print(\"8 / 2 =\", result_div)\n",
    "\n",
    "##### Exponentiation\n",
    "result_exp = 3 ** 2\n",
    "print(\"3 ** 2 =\", result_exp)\n",
    "\n",
    "##### Modulus\n",
    "result_mod = 10 % 3\n",
    "print(\"10 % 3 =\", result_mod)\n"
   ]
  },
  {
   "cell_type": "code",
   "execution_count": 7,
   "id": "529edf81-1891-413a-a24e-9fa895498316",
   "metadata": {
    "tags": []
   },
   "outputs": [
    {
     "name": "stdout",
     "output_type": "stream",
     "text": [
      "17\n"
     ]
    }
   ],
   "source": [
    "\n",
    "# This a simple arithmetic expression to mutiply then add integers\n",
    "result = (3*4)+5\n",
    "print(result)\n"
   ]
  },
  {
   "cell_type": "code",
   "execution_count": 9,
   "id": "3642ef47-5d89-4cfb-a2c2-4cc2f6ed8d61",
   "metadata": {
    "tags": []
   },
   "outputs": [
    {
     "name": "stdout",
     "output_type": "stream",
     "text": [
      "3\n"
     ]
    }
   ],
   "source": [
    "# This will convert 200 minutes to hours by diving by 60\n",
    "hours = 200/60\n",
    "print(round(hours))"
   ]
  },
  {
   "cell_type": "markdown",
   "id": "dec5d284-d478-43e7-b972-d1e7248f44b0",
   "metadata": {},
   "source": [
    "## Author\n",
    "Christian Rivera"
   ]
  }
 ],
 "metadata": {
  "kernelspec": {
   "display_name": "Python 3 (ipykernel)",
   "language": "python",
   "name": "python3"
  },
  "language_info": {
   "codemirror_mode": {
    "name": "ipython",
    "version": 3
   },
   "file_extension": ".py",
   "mimetype": "text/x-python",
   "name": "python",
   "nbconvert_exporter": "python",
   "pygments_lexer": "ipython3",
   "version": "3.11.5"
  }
 },
 "nbformat": 4,
 "nbformat_minor": 5
}
